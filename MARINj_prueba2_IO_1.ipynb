{
  "nbformat": 4,
  "nbformat_minor": 0,
  "metadata": {
    "colab": {
      "provenance": [],
      "authorship_tag": "ABX9TyO+YHEUy2eUsSS7GhRKf/xs",
      "include_colab_link": true
    },
    "kernelspec": {
      "name": "python3",
      "display_name": "Python 3"
    },
    "language_info": {
      "name": "python"
    }
  },
  "cells": [
    {
      "cell_type": "markdown",
      "metadata": {
        "id": "view-in-github",
        "colab_type": "text"
      },
      "source": [
        "<a href=\"https://colab.research.google.com/github/Thepuffyn/SegundoEjercicio/blob/main/MARINj_prueba2_IO_1.ipynb\" target=\"_parent\"><img src=\"https://colab.research.google.com/assets/colab-badge.svg\" alt=\"Open In Colab\"/></a>"
      ]
    },
    {
      "cell_type": "markdown",
      "source": [
        "# Primer ejercicio"
      ],
      "metadata": {
        "id": "8YIRb5EN33qp"
      }
    },
    {
      "cell_type": "code",
      "execution_count": 1,
      "metadata": {
        "colab": {
          "base_uri": "https://localhost:8080/"
        },
        "id": "ZSOc2Qeu27sO",
        "outputId": "5cf74608-d09e-4473-cfa7-6f414b76aaeb"
      },
      "outputs": [
        {
          "output_type": "stream",
          "name": "stdout",
          "text": [
            "holamundo\n"
          ]
        }
      ],
      "source": [
        "print(\"Buenos dias mundo\")\n"
      ]
    },
    {
      "cell_type": "markdown",
      "source": [
        "# Segundo ejercicio"
      ],
      "metadata": {
        "id": "Fq5vSK_V4ciR"
      }
    },
    {
      "cell_type": "code",
      "source": [
        "print(\"Buenos dias Juan\")"
      ],
      "metadata": {
        "id": "LM3sRisV4cbi"
      },
      "execution_count": null,
      "outputs": []
    },
    {
      "cell_type": "markdown",
      "source": [
        "# Tercer ejercicio"
      ],
      "metadata": {
        "id": "X4ozfgXh4ltx"
      }
    },
    {
      "cell_type": "code",
      "source": [],
      "metadata": {
        "id": "LP0elj4r6Cbq"
      },
      "execution_count": null,
      "outputs": []
    }
  ]
}